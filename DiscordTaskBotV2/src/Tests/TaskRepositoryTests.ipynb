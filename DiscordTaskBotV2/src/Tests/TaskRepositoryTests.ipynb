{
 "cells": [
  {
   "cell_type": "code",
   "execution_count": 79,
   "id": "20eb93ea",
   "metadata": {
    "language_info": {
     "name": "polyglot-notebook"
    },
    "polyglot_notebook": {
     "kernelName": "csharp"
    }
   },
   "outputs": [
    {
     "data": {
      "text/html": [
       "<div><div></div><div></div><div><strong>Installed Packages</strong><ul><li><span>Microsoft.Data.Sqlite, 9.0.8</span></li><li><span>Microsoft.EntityFrameworkCore.Sqlite, 9.0.8</span></li><li><span>SQLitePCLRaw.bundle_e_sqlite3, 3.0.1</span></li></ul></div></div>"
      ]
     },
     "metadata": {},
     "output_type": "display_data"
    }
   ],
   "source": [
    "#r \"../../bin/Debug/net9.0/DiscordTaskBotV2.dll\"\n",
    "#r \"nuget: Microsoft.EntityFrameworkCore.Sqlite\"\n",
    "#r \"nuget: Microsoft.Data.Sqlite\"\n",
    "#r \"nuget: SQLitePCLRaw.bundle_e_sqlite3\"\n",
    "\n",
    "using Microsoft.EntityFrameworkCore.Sqlite;\n",
    "using Microsoft.EntityFrameworkCore;\n",
    "using Microsoft.Data.Sqlite;\n",
    "using DiscordTaskBot.Core;\n",
    "using DiscordTaskBot.Infrastructure;\n",
    "using SQLitePCL;"
   ]
  },
  {
   "cell_type": "code",
   "execution_count": 80,
   "id": "ba1ca98b",
   "metadata": {
    "language_info": {
     "name": "polyglot-notebook"
    },
    "polyglot_notebook": {
     "kernelName": "csharp"
    }
   },
   "outputs": [],
   "source": [
    "const ulong TASK_CHANNEL = 123456789;\n",
    "\n",
    "const ulong ADMIN_ID = 10000;\n",
    "const ulong USER_ID = 12345;\n",
    "\n",
    "\n",
    "var task1 = new TaskItem(\"do something\", new TaskDuration(DateTime.UtcNow, DateTime.UtcNow.AddDays(10), TimeZoneInfo.Utc), USER_ID); // Task for USER, 10 days to complete\n",
    "task1.SetLocation(new TaskLocation(TASK_CHANNEL, 1234));\n",
    "\n",
    "var task2 = new TaskItem(\"do something else\", new TaskDuration(DateTime.UtcNow, DateTime.UtcNow.AddDays(5), TimeZoneInfo.Utc), ADMIN_ID);\n",
    "task2.SetLocation(new TaskLocation(TASK_CHANNEL, 2345)); // Task for ADMIN, 5 days to complete"
   ]
  },
  {
   "cell_type": "code",
   "execution_count": 81,
   "id": "d42223bc",
   "metadata": {
    "language_info": {
     "name": "polyglot-notebook"
    },
    "polyglot_notebook": {
     "kernelName": "csharp"
    }
   },
   "outputs": [],
   "source": [
    "SQLitePCL.Batteries_V2.Init();\n",
    "\n",
    "var connection = new SqliteConnection(\"DataSource=:memory:\");\n",
    "connection.Open();\n",
    "\n",
    "var options = new DbContextOptionsBuilder<TaskItemDbContext>()\n",
    "    .UseSqlite(connection)\n",
    "    .Options;\n",
    "\n",
    "var dbContext = new TaskItemDbContext(options);\n",
    "ITaskRepository taskRepository = new TaskRepository(dbContext);\n",
    "\n",
    "async Task WriteAllTasks() {\n",
    "    foreach (var task in await taskRepository.GetAllTasksAsync()) {\n",
    "        Console.WriteLine(\"result:\" + task.Description);\n",
    "    }\n",
    "}"
   ]
  },
  {
   "cell_type": "code",
   "execution_count": 82,
   "metadata": {
    "language_info": {
     "name": "polyglot-notebook"
    },
    "polyglot_notebook": {
     "kernelName": "csharp"
    }
   },
   "outputs": [
    {
     "name": "stdout",
     "output_type": "stream",
     "text": [
      "result:do something\r\n"
     ]
    }
   ],
   "source": [
    "// AddTaskAsync and GetAllTasksAsync Test\n",
    "await WriteAllTasks();\n",
    "\n",
    "await taskRepository.AddTaskAsync(task1);\n",
    "\n",
    "await WriteAllTasks();"
   ]
  },
  {
   "cell_type": "code",
   "execution_count": 83,
   "metadata": {
    "language_info": {
     "name": "polyglot-notebook"
    },
    "polyglot_notebook": {
     "kernelName": "csharp"
    }
   },
   "outputs": [
    {
     "name": "stdout",
     "output_type": "stream",
     "text": [
      "result:True\n",
      "result:False\n"
     ]
    }
   ],
   "source": [
    "Console.WriteLine(\"result:\" + await taskRepository.DeleteTaskByIDAsync(task1.ID));\n",
    "\n",
    "await WriteAllTasks();\n",
    "\n",
    "Console.WriteLine(\"result:\" + await taskRepository.DeleteTaskByIDAsync(\"non existent id\"));"
   ]
  },
  {
   "cell_type": "code",
   "execution_count": 84,
   "metadata": {
    "language_info": {
     "name": "polyglot-notebook"
    },
    "polyglot_notebook": {
     "kernelName": "csharp"
    }
   },
   "outputs": [
    {
     "name": "stdout",
     "output_type": "stream",
     "text": [
      "result:DiscordTaskBot.Core.TaskItem\n",
      "result:\n"
     ]
    }
   ],
   "source": [
    "await taskRepository.AddTaskAsync(task2);\n",
    "\n",
    "Console.WriteLine(\"result:\" + await taskRepository.GetTaskByIDAsync(task2.ID));\n",
    "\n",
    "Console.WriteLine(\"result:\" + await taskRepository.GetTaskByIDAsync(task1.ID));"
   ]
  },
  {
   "cell_type": "code",
   "execution_count": 85,
   "metadata": {
    "language_info": {
     "name": "polyglot-notebook"
    },
    "polyglot_notebook": {
     "kernelName": "csharp"
    }
   },
   "outputs": [
    {
     "name": "stdout",
     "output_type": "stream",
     "text": [
      "result:NOT_STARTED\n",
      "result:IN_PROGRESS\n"
     ]
    }
   ],
   "source": [
    "Console.WriteLine(\"result:\" + (await taskRepository.GetTaskByIDAsync(task2.ID)).State);\n",
    "\n",
    "task2.ChangeState(TaskState.IN_PROGRESS);\n",
    "\n",
    "await taskRepository.UpdateTaskAsync(task2);\n",
    "\n",
    "Console.WriteLine(\"result:\" + (await taskRepository.GetTaskByIDAsync(task2.ID)).State);"
   ]
  },
  {
   "cell_type": "code",
   "execution_count": 86,
   "metadata": {
    "language_info": {
     "name": "polyglot-notebook"
    },
    "polyglot_notebook": {
     "kernelName": "csharp"
    }
   },
   "outputs": [
    {
     "name": "stdout",
     "output_type": "stream",
     "text": [
      "result:IN_PROGRESS\n",
      "Cannot change state from IN_PROGRESS to ARCHIVED\n",
      "result:IN_PROGRESS\n"
     ]
    }
   ],
   "source": [
    "Console.WriteLine(\"result:\" + (await taskRepository.GetTaskByIDAsync(task2.ID)).State);\n",
    "try {\n",
    "    task2.ChangeState(TaskState.ARCHIVED);\n",
    "}\n",
    "catch (Exception ex) {\n",
    "    Console.WriteLine(ex.Message);\n",
    "}\n",
    "\n",
    "await taskRepository.UpdateTaskAsync(task2);\n",
    "\n",
    "Console.WriteLine(\"result:\" + (await taskRepository.GetTaskByIDAsync(task2.ID)).State);"
   ]
  }
 ],
 "metadata": {
  "kernelspec": {
   "display_name": ".NET (C#)",
   "language": "C#",
   "name": ".net-csharp"
  },
  "language_info": {
   "name": "polyglot-notebook"
  },
  "polyglot_notebook": {
   "kernelInfo": {
    "defaultKernelName": "csharp",
    "items": [
     {
      "aliases": [],
      "name": "csharp"
     }
    ]
   }
  }
 },
 "nbformat": 4,
 "nbformat_minor": 5
}

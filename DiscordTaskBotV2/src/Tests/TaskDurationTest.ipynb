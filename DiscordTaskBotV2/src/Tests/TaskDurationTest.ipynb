{
 "cells": [
  {
   "cell_type": "code",
   "execution_count": null,
   "id": "e8dca8cb",
   "metadata": {},
   "outputs": [],
   "source": [
    "using Xunit;\n",
    "using DiscordTaskBot.Core;\n",
    "\n",
    "public class \n",
    "[Fact]\n",
    "public void Constructor_ConvertsUtcToLocalTime()\n",
    "{\n",
    "    // Arrange\n",
    "    var utcCreation = new DateTime(2023, 1, 1, 0, 0, 0, DateTimeKind.Utc);\n",
    "    var utcDue = new DateTime(2023, 1, 10, 0, 0, 0, DateTimeKind.Utc);\n",
    "    var timeZone = TimeZoneInfo.FindSystemTimeZoneById(\"Central European Standard Time\");\n",
    "\n",
    "    // Act\n",
    "    var taskDuration = new TaskDuration(utcCreation, utcDue, timeZone);\n",
    "    \n",
    "    // Assert\n",
    "    Assert.Equal(TimeZoneInfo.ConvertTimeFromUtc(utcCreation, timeZone), taskDuration.CreationDate);\n",
    "    Assert.Equal(TimeZoneInfo.ConvertTimeFromUtc(utcDue, timeZone), taskDuration.DueDate);\n",
    "}"
   ]
  }
 ],
 "metadata": {
  "kernelspec": {
   "display_name": ".NET (C#)",
   "language": "C#",
   "name": ".net-csharp"
  },
  "language_info": {
   "name": "polyglot-notebook"
  },
  "polyglot_notebook": {
   "kernelInfo": {
    "defaultKernelName": "csharp",
    "items": [
     {
      "aliases": [],
      "name": "csharp"
     }
    ]
   }
  }
 },
 "nbformat": 4,
 "nbformat_minor": 5
}

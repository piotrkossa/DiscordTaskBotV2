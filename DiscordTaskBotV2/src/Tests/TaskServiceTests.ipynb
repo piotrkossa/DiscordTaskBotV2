{
 "cells": [
  {
   "cell_type": "code",
   "execution_count": 9,
   "metadata": {
    "language_info": {
     "name": "polyglot-notebook"
    },
    "polyglot_notebook": {
     "kernelName": "csharp"
    }
   },
   "outputs": [
    {
     "data": {
      "text/html": [
       "<div><div></div><div></div><div><strong>Installed Packages</strong><ul><li><span>Moq, 4.20.72</span></li></ul></div></div>"
      ]
     },
     "metadata": {},
     "output_type": "display_data"
    }
   ],
   "source": [
    "#r \"nuget: Moq\"\n",
    "#r \"../../bin/Debug/net9.0/DiscordTaskBotV2.dll\""
   ]
  },
  {
   "cell_type": "code",
   "execution_count": 10,
   "metadata": {
    "language_info": {
     "name": "polyglot-notebook"
    },
    "polyglot_notebook": {
     "kernelName": "csharp"
    }
   },
   "outputs": [],
   "source": [
    "using Moq;\n",
    "using DiscordTaskBot.Core;\n",
    "using DiscordTaskBot.Infrastructure;\n",
    "\n",
    "const ulong TASK_CHANNEL = 123456789;\n",
    "\n",
    "const ulong ADMIN_ID = 10000;\n",
    "const ulong USER_ID = 12345;\n",
    "\n",
    "var userInfoMock = new Mock<IUserInformationService>();\n",
    "var repoMock = new Mock<ITaskRepository>();\n",
    "var discordMock = new Mock<IDiscordMessageService>();\n",
    "\n",
    "// admin user - 10000\n",
    "// usernames: 10000 - Mark, 12345 - Steven\n",
    "\n",
    "var task1 = new TaskItem(\"do something\", new TaskDuration(DateTime.UtcNow, DateTime.UtcNow.AddDays(10), TimeZoneInfo.Utc), USER_ID); // Task for Steven, 10 days to complete\n",
    "task1.SetLocation(new TaskLocation(TASK_CHANNEL, 1234));\n",
    "\n",
    "var task2 = new TaskItem(\"do something else\", new TaskDuration(DateTime.UtcNow, DateTime.UtcNow.AddDays(5), TimeZoneInfo.Utc), ADMIN_ID);\n",
    "task2.SetLocation(new TaskLocation(TASK_CHANNEL, 2345)); // Task for Mark, 5 days to complete\n",
    "\n",
    "// tasks:\n",
    "List<TaskItem> tasks = [task1, task2];\n",
    "\n",
    "\n",
    "userInfoMock\n",
    "    .Setup(u => u.IsAdminAsync(It.Is<ulong>(id => id == ADMIN_ID)))\n",
    "    .ReturnsAsync(true);\n",
    "\n",
    "userInfoMock\n",
    "    .Setup(u => u.IsAdminAsync(It.Is<ulong>(id => id != ADMIN_ID)))\n",
    "    .ReturnsAsync(false);\n",
    "\n",
    "userInfoMock\n",
    "    .Setup(u => u.GetUsernameAsync(It.Is<ulong>(id => id == ADMIN_ID)))\n",
    "    .ReturnsAsync(\"Mark\");\n",
    "\n",
    "userInfoMock\n",
    "    .Setup(u => u.GetUsernameAsync(It.Is<ulong>(id => id == USER_ID)))\n",
    "    .ReturnsAsync(\"Steven\");\n",
    "\n",
    "userInfoMock\n",
    "    .Setup(u => u.GetUsernameAsync(It.Is<ulong>(id => id != USER_ID && id != ADMIN_ID)))\n",
    "    .Throws(new InfrastructureException(\"User of specified id could not be found\"));\n",
    "\n",
    "\n",
    "\n",
    "\n",
    "\n",
    "repoMock\n",
    "    .Setup(r => r.AddTaskAsync(It.IsAny<TaskItem>()))\n",
    "    .Callback<TaskItem>(task =>\n",
    "    {\n",
    "        tasks.Add(task);\n",
    "        Console.WriteLine($\"[LOG] Task added: {task.Description} for user {task.AssigneeID}\");\n",
    "    })\n",
    "    .Returns(Task.CompletedTask);\n",
    "\n",
    "// DeleteTaskByIDAsync: checks if task exists, removes if found, returns true; otherwise returns false\n",
    "repoMock\n",
    "    .Setup(r => r.DeleteTaskByIDAsync(It.IsAny<string>()))\n",
    "    .Returns<string>(taskID =>\n",
    "    {\n",
    "        var task = tasks.FirstOrDefault(t => t.ID == taskID);\n",
    "        if (task != null)\n",
    "        {\n",
    "            Console.WriteLine($\"[LOG] Task deleted: {task.Description}\");\n",
    "            tasks.Remove(task);\n",
    "            return Task.FromResult(true);\n",
    "        }\n",
    "        Console.WriteLine($\"[LOG] Could not find task of id {taskID}\");\n",
    "        return Task.FromResult(false);\n",
    "    });\n",
    "\n",
    "// GetTaskByIDAsync: returns the task if it exists, null if not\n",
    "repoMock\n",
    "    .Setup(r => r.GetTaskByIDAsync(It.IsAny<string>()))\n",
    "    .Returns<string>(taskID =>\n",
    "    {\n",
    "        var task = tasks.FirstOrDefault(t => t.ID == taskID);\n",
    "        return Task.FromResult<TaskItem?>(task);\n",
    "    });\n",
    "\n",
    "// UpdateTaskAsync: logs update if task exists, throws InfrastructureException if not\n",
    "repoMock\n",
    "    .Setup(r => r.UpdateTaskAsync(It.IsAny<TaskItem>()))\n",
    "    .Callback<TaskItem>(task =>\n",
    "    {\n",
    "        var existingTask = tasks.FirstOrDefault(t => t.ID == task.ID);\n",
    "        if (existingTask != null)\n",
    "        {\n",
    "            Console.WriteLine($\"[LOG] Task updated: {task.Description}\");\n",
    "            // Optionally update the task in the array\n",
    "            tasks = tasks.Select(t => t.ID == task.ID ? task : t).ToList();\n",
    "        }\n",
    "        else\n",
    "        {\n",
    "            throw new InfrastructureException($\"Task with ID {task.ID} not found for update\");\n",
    "        }\n",
    "    })\n",
    "    .Returns(Task.CompletedTask);\n",
    "\n",
    "\n",
    "// Mock CreateTaskMessageAsync\n",
    "discordMock\n",
    "    .Setup(d => d.CreateTaskMessageAsync(It.IsAny<ulong>(), It.IsAny<TaskItem>()))\n",
    "    .ReturnsAsync((ulong channelID, TaskItem taskItem) =>\n",
    "    {\n",
    "        Console.WriteLine($\"Creating task message: {taskItem.Description}\");\n",
    "        return new TaskLocation(channelID, 12345); // fixed messageID\n",
    "    });\n",
    "\n",
    "// Mock MoveTaskMessageToArchiveAsync\n",
    "discordMock\n",
    "    .Setup(d => d.MoveTaskMessageToArchiveAsync(It.IsAny<TaskItem>()))\n",
    "    .Returns<TaskItem>(taskItem =>\n",
    "    {\n",
    "        if (!tasks.Contains(taskItem))\n",
    "        {\n",
    "            throw new InfrastructureException(\"TaskItem not found in tasks array\");\n",
    "        }\n",
    "\n",
    "        Console.WriteLine($\"Moving task '{taskItem.Description}' to archive channel\");\n",
    "        taskItem.SetLocation(new TaskLocation(99999, 54321)); // fixed channelID and messageID\n",
    "        return Task.FromResult(taskItem.TaskLocation);\n",
    "    });\n",
    "\n",
    "// Mock DeleteTaskMessageAsync\n",
    "discordMock\n",
    "    .Setup(d => d.DeleteTaskMessageAsync(It.IsAny<TaskLocation>()))\n",
    "    .ReturnsAsync((TaskLocation location) =>\n",
    "    {\n",
    "        var taskItem = tasks.FirstOrDefault(t => t.TaskLocation != null\n",
    "                                                && t.TaskLocation.ChannelID == location.ChannelID\n",
    "                                                && t.TaskLocation.MessageID == location.MessageID);\n",
    "        if (taskItem != null)\n",
    "        {\n",
    "            Console.WriteLine($\"Deleting task message '{taskItem.Description}' from channel {location.ChannelID}\");\n",
    "            return true;\n",
    "        }\n",
    "\n",
    "        return false;\n",
    "    });\n",
    "\n",
    "\n",
    "var taskService = new TaskService(repoMock.Object, userInfoMock.Object, discordMock.Object);"
   ]
  },
  {
   "cell_type": "code",
   "execution_count": null,
   "metadata": {
    "language_info": {
     "name": "polyglot-notebook"
    },
    "polyglot_notebook": {
     "kernelName": "csharp"
    }
   },
   "outputs": [
    {
     "name": "stdout",
     "output_type": "stream",
     "text": [
      "Error: Only administrators can perform that action\r\n"
     ]
    }
   ],
   "source": [
    "// Non administrator tries to create task\n",
    "try {\n",
    "    await taskService.CreateTaskAsync(\"do something funny\", new TaskDuration(DateTime.UtcNow, DateTime.UtcNow.AddDays(10), TimeZoneInfo.Utc), USER_ID, USER_ID, TASK_CHANNEL);\n",
    "}\n",
    "catch (Exception ex) {\n",
    "    Console.WriteLine($\"Error: {ex.Message}\");\n",
    "}"
   ]
  },
  {
   "cell_type": "code",
   "execution_count": 12,
   "metadata": {
    "language_info": {
     "name": "polyglot-notebook"
    },
    "polyglot_notebook": {
     "kernelName": "csharp"
    }
   },
   "outputs": [
    {
     "name": "stdout",
     "output_type": "stream",
     "text": [
      "Creating task message: do something funny\n",
      "[LOG] Task added: do something funny for user 12345\n",
      "do something\n",
      "do something else\n",
      "do something funny\n"
     ]
    }
   ],
   "source": [
    "// Administrator tries to create task\n",
    "await taskService.CreateTaskAsync(\"do something funny\", new TaskDuration(DateTime.UtcNow, DateTime.UtcNow.AddDays(10), TimeZoneInfo.Utc), ADMIN_ID, USER_ID, TASK_CHANNEL);\n",
    "foreach (var task in tasks) {\n",
    "    Console.WriteLine(task.Description);\n",
    "}"
   ]
  },
  {
   "cell_type": "code",
   "execution_count": 13,
   "metadata": {
    "language_info": {
     "name": "polyglot-notebook"
    },
    "polyglot_notebook": {
     "kernelName": "csharp"
    }
   },
   "outputs": [
    {
     "name": "stdout",
     "output_type": "stream",
     "text": [
      "Error: Only administrators can perform that action\r\n"
     ]
    }
   ],
   "source": [
    "// Non administrator tries to delete task\n",
    "try {\n",
    "    await taskService.DeleteTaskAsync(tasks.Last().ID, USER_ID);\n",
    "}\n",
    "catch (Exception ex) {\n",
    "    Console.WriteLine($\"Error: {ex.Message}\");\n",
    "}"
   ]
  },
  {
   "cell_type": "code",
   "execution_count": 14,
   "metadata": {
    "language_info": {
     "name": "polyglot-notebook"
    },
    "polyglot_notebook": {
     "kernelName": "csharp"
    }
   },
   "outputs": [
    {
     "name": "stdout",
     "output_type": "stream",
     "text": [
      "[LOG] Task deleted: do something funny\r\n"
     ]
    }
   ],
   "source": [
    "// Administrator tries to delete task\n",
    "await taskService.DeleteTaskAsync(tasks.Last().ID, ADMIN_ID);"
   ]
  },
  {
   "cell_type": "code",
   "execution_count": 16,
   "metadata": {
    "language_info": {
     "name": "polyglot-notebook"
    },
    "polyglot_notebook": {
     "kernelName": "csharp"
    }
   },
   "outputs": [
    {
     "name": "stdout",
     "output_type": "stream",
     "text": [
      "[LOG] Could not find task of id nonexistenttask\n",
      "Error: Task was not found\n"
     ]
    }
   ],
   "source": [
    "// Attempt to delete non existent task\n",
    "try {\n",
    "    await taskService.DeleteTaskAsync(\"nonexistenttask\", ADMIN_ID);\n",
    "}\n",
    "catch (Exception ex) {\n",
    "    Console.WriteLine($\"Error: {ex.Message}\");\n",
    "}"
   ]
  }
 ],
 "metadata": {
  "kernelspec": {
   "display_name": ".NET (C#)",
   "language": "C#",
   "name": ".net-csharp"
  },
  "language_info": {
   "name": "polyglot-notebook"
  },
  "polyglot_notebook": {
   "kernelInfo": {
    "defaultKernelName": "csharp",
    "items": [
     {
      "aliases": [],
      "name": "csharp"
     }
    ]
   }
  }
 },
 "nbformat": 4,
 "nbformat_minor": 5
}

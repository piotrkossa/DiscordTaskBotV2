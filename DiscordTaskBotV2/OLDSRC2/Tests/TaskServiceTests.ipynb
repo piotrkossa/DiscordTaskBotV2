{
 "cells": [
  {
   "cell_type": "code",
   "execution_count": 4,
   "metadata": {
    "language_info": {
     "name": "polyglot-notebook"
    },
    "polyglot_notebook": {
     "kernelName": "csharp"
    }
   },
   "outputs": [
    {
     "data": {
      "text/html": [
       "<div><div></div><div></div><div><strong>Installed Packages</strong><ul><li><span>Moq, 4.20.72</span></li></ul></div></div>"
      ]
     },
     "metadata": {},
     "output_type": "display_data"
    }
   ],
   "source": [
    "// load project dll\n",
    "#r \"nuget: Moq\"\n",
    "#r \"../../bin/Debug/net9.0/DiscordTaskBotV2.dll\""
   ]
  },
  {
   "cell_type": "code",
   "execution_count": null,
   "metadata": {
    "language_info": {
     "name": "polyglot-notebook"
    },
    "polyglot_notebook": {
     "kernelName": "csharp"
    }
   },
   "outputs": [],
   "source": [
    "// dependencies\n",
    "using Moq;\n",
    "using System;\n",
    "using System.Collections.Generic;\n",
    "using System.Threading.Tasks;\n",
    "using DiscordTaskBot.Core;"
   ]
  },
  {
   "cell_type": "code",
   "execution_count": 6,
   "metadata": {
    "language_info": {
     "name": "polyglot-notebook"
    },
    "polyglot_notebook": {
     "kernelName": "csharp"
    }
   },
   "outputs": [],
   "source": [
    "// configs and mocks\n",
    "AppearanceConfig appearanceConfig = new();\n",
    "BehaviorConfig behaviorConfig = new();"
   ]
  },
  {
   "cell_type": "code",
   "execution_count": null,
   "metadata": {
    "language_info": {
     "name": "polyglot-notebook"
    },
    "polyglot_notebook": {
     "kernelName": "csharp"
    }
   },
   "outputs": [],
   "source": [
    "public class DiscordMessageBuilderMock\n",
    "{\n",
    "    private readonly Mock<IDiscordMessageBuilder> _mock;\n",
    "    private readonly Dictionary<ulong, string> _messageStorage;\n",
    "    private ulong _nextMessageId = 1;\n",
    "    private string _currentMessageContent = string.Empty;\n",
    "\n",
    "    public DiscordMessageBuilderMock()\n",
    "    {\n",
    "        _messageStorage = new Dictionary<ulong, string>();\n",
    "        _mock = new Mock<IDiscordMessageBuilder>();\n",
    "        \n",
    "        SetupMockMethods();\n",
    "    }\n",
    "\n",
    "    public Mock<IDiscordMessageBuilder> Mock => _mock;\n",
    "    public IDiscordMessageBuilder Object => _mock.Object;\n",
    "\n",
    "    private void SetupMockMethods()\n",
    "    {\n",
    "        // SetTitle\n",
    "        _mock.Setup(m => m.SetTitle(It.IsAny<string>()))\n",
    "            .Returns<string>(title =>\n",
    "            {\n",
    "                _currentMessageContent += $\"[TITLE: {title}]\\n\";\n",
    "                return _mock.Object;\n",
    "            });\n",
    "\n",
    "        // SetDescription\n",
    "        _mock.Setup(m => m.SetDescription(It.IsAny<string>()))\n",
    "            .Returns<string>(description =>\n",
    "            {\n",
    "                _currentMessageContent += $\"[DESCRIPTION: {description}]\\n\";\n",
    "                return _mock.Object;\n",
    "            });\n",
    "\n",
    "        // AddField\n",
    "        _mock.Setup(m => m.AddField(It.IsAny<string>(), It.IsAny<string>(), It.IsAny<bool>()))\n",
    "            .Returns<string, string, bool>((name, value, inline) =>\n",
    "            {\n",
    "                _currentMessageContent += $\"[FIELD: {name} = {value} (inline: {inline})]\\n\";\n",
    "                return _mock.Object;\n",
    "            });\n",
    "\n",
    "        // SetColor\n",
    "        _mock.Setup(m => m.SetColor(It.IsAny<uint>()))\n",
    "            .Returns<uint>(colorHex =>\n",
    "            {\n",
    "                _currentMessageContent += $\"[COLOR: #{colorHex:X6}]\\n\";\n",
    "                return _mock.Object;\n",
    "            });\n",
    "\n",
    "        // AddButton\n",
    "        _mock.Setup(m => m.AddButton(It.IsAny<string>(), It.IsAny<string>(), It.IsAny<ButtonType>()))\n",
    "            .Returns<string, string, ButtonType>((label, customId, buttonType) =>\n",
    "            {\n",
    "                _currentMessageContent += $\"[BUTTON: {label} ({customId}) - {buttonType}]\\n\";\n",
    "                return _mock.Object;\n",
    "            });\n",
    "\n",
    "        // AddFooter\n",
    "        _mock.Setup(m => m.AddFooter(It.IsAny<string>()))\n",
    "            .Returns<string>(label =>\n",
    "            {\n",
    "                _currentMessageContent += $\"[FOOTER: {label}]\\n\";\n",
    "                return _mock.Object;\n",
    "            });\n",
    "\n",
    "        // SendToChannel\n",
    "        _mock.Setup(m => m.SendToChannel(It.IsAny<ulong>()))\n",
    "            .Returns<ulong>(async channelId =>\n",
    "            {\n",
    "                var messageId = _nextMessageId++;\n",
    "                var location = new TaskLocation(channelId, messageId);\n",
    "                \n",
    "                _messageStorage[messageId] = _currentMessageContent;\n",
    "                \n",
    "                Console.WriteLine($\"=== WIADOMOŚĆ WYSŁANA DO KANAŁU {channelId} ===\");\n",
    "                Console.WriteLine(_currentMessageContent);\n",
    "                Console.WriteLine($\"=== KONIEC WIADOMOŚCI (ID: {messageId}) ===\\n\");\n",
    "                \n",
    "                _currentMessageContent = string.Empty; // Reset dla następnej wiadomości\n",
    "                \n",
    "                return await Task.FromResult(location);\n",
    "            });\n",
    "\n",
    "        // SendToUser\n",
    "        _mock.Setup(m => m.SendToUser(It.IsAny<ulong>()))\n",
    "            .Returns<ulong>(async userId =>\n",
    "            {\n",
    "                Console.WriteLine($\"=== WIADOMOŚĆ WYSŁANA DO UŻYTKOWNIKA {userId} ===\");\n",
    "                Console.WriteLine(_currentMessageContent);\n",
    "                Console.WriteLine($\"=== KONIEC WIADOMOŚCI ===\\n\");\n",
    "                \n",
    "                _currentMessageContent = string.Empty;\n",
    "                \n",
    "                await Task.CompletedTask;\n",
    "            });\n",
    "\n",
    "        // EditExistingMessage\n",
    "        _mock.Setup(m => m.EditExistingMessage(It.IsAny<TaskLocation>()))\n",
    "            .Returns<TaskLocation>(async location =>\n",
    "            {\n",
    "                if (_messageStorage.ContainsKey(location.MessageID))\n",
    "                {\n",
    "                    _messageStorage[location.MessageID] = _currentMessageContent;\n",
    "                    \n",
    "                    Console.WriteLine($\"=== WIADOMOŚĆ ZEDYTOWANA (ID: {location.MessageID}) ===\");\n",
    "                    Console.WriteLine(_currentMessageContent);\n",
    "                    Console.WriteLine($\"=== KONIEC ZEDYTOWANEJ WIADOMOŚCI ===\\n\");\n",
    "                }\n",
    "                else\n",
    "                {\n",
    "                    Console.WriteLine($\"=== BRAK WIADOMOŚCI O ID: {location.MessageID} DO EDYCJI ===\");\n",
    "                }\n",
    "                \n",
    "                _currentMessageContent = string.Empty;\n",
    "                \n",
    "                await Task.CompletedTask;\n",
    "            });\n",
    "    }\n",
    "\n",
    "    // Metody pomocnicze do testów\n",
    "    public string GetMessageContent(ulong messageId)\n",
    "    {\n",
    "        return _messageStorage.TryGetValue(messageId, out var content) ? content : null;\n",
    "    }\n",
    "\n",
    "    public bool MessageExists(ulong messageId)\n",
    "    {\n",
    "        return _messageStorage.ContainsKey(messageId);\n",
    "    }\n",
    "\n",
    "    public void ClearStorage()\n",
    "    {\n",
    "        _messageStorage.Clear();\n",
    "        _nextMessageId = 1;\n",
    "        _currentMessageContent = string.Empty;\n",
    "    }\n",
    "}"
   ]
  }
 ],
 "metadata": {
  "kernelspec": {
   "display_name": ".NET (C#)",
   "language": "C#",
   "name": ".net-csharp"
  },
  "language_info": {
   "name": "polyglot-notebook"
  },
  "polyglot_notebook": {
   "kernelInfo": {
    "defaultKernelName": "csharp",
    "items": [
     {
      "aliases": [],
      "name": "csharp"
     }
    ]
   }
  }
 },
 "nbformat": 4,
 "nbformat_minor": 5
}
